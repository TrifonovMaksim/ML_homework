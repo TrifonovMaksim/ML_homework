{
 "cells": [
  {
   "cell_type": "markdown",
   "id": "1ae05a5d-e845-4467-b027-9d23e19c15d5",
   "metadata": {},
   "source": [
    "Трифонов Максим ДЗ 2\n",
    "Рассмотрим датасет б/у авто Германии [ссылка](https://www.kaggle.com/datasets/ander289386/cars-germany/data).\n",
    "\n",
    "Описание датасета:\n",
    "- **mileage** ––– пробег\n",
    "- **make** ––– марка авто\n",
    "- **model** ––– модель авто\n",
    "- **fuel** ––– тип топлива\n",
    "- **gear** ––– коробка передач\n",
    "- **offerType**\t–––\tтип сделки (Used с пробегом, Pre-registered - Автомобиль, зарегистрированный на компанию или дилера, но фактически новый и неэксплуатировался; Demonstration - Автомобиль, используемый для демонстрации и тест-драйвов в автосалоне, также является фактически новым;\n",
    "Employee's car - Автомобиль, принадлежавший сотруднику компании или дилера, может иметь небольшой пробег; New - новый)\n",
    "- **price** ––– цена\n",
    "- **hp** ––– мощность\n",
    "- **year** ––– год выпуска\n"
   ]
  },
  {
   "cell_type": "markdown",
   "id": "fa7ec461-c8f3-4805-8024-ba9d9e7f1dd9",
   "metadata": {},
   "source": [
    "Мы хотим научиться предсказывать цену авто.\n",
    "Подключим необходимые библиотеки"
   ]
  },
  {
   "cell_type": "code",
   "execution_count": 1,
   "id": "adc2c1bb-f275-4448-bd14-f9822831e3cd",
   "metadata": {},
   "outputs": [],
   "source": [
    "import numpy as np \n",
    "import pandas as pd\n",
    "import matplotlib.pyplot as plt\n",
    "%matplotlib inline\n",
    "import seaborn as sns\n",
    "\n",
    "# устанавливаем точность чисел с плавающей точкой\n",
    "%precision %.4f\n",
    "\n",
    "import warnings\n",
    "warnings.filterwarnings('ignore')  # отключаем предупреждения"
   ]
  },
  {
   "cell_type": "markdown",
   "id": "7a2c1c39-4bdd-48f4-a478-c3362e536ff9",
   "metadata": {},
   "source": [
    "Считываем выборку"
   ]
  },
  {
   "cell_type": "code",
   "execution_count": 2,
   "id": "43d6f361-58ad-4377-99f4-527310afdc91",
   "metadata": {},
   "outputs": [],
   "source": [
    "df = pd.read_csv('autoscout24-germany-dataset.csv')"
   ]
  },
  {
   "cell_type": "code",
   "execution_count": 3,
   "id": "79e3196d-0550-4d19-9abb-ec11879e0a6f",
   "metadata": {},
   "outputs": [
    {
     "data": {
      "text/html": [
       "<div>\n",
       "<style scoped>\n",
       "    .dataframe tbody tr th:only-of-type {\n",
       "        vertical-align: middle;\n",
       "    }\n",
       "\n",
       "    .dataframe tbody tr th {\n",
       "        vertical-align: top;\n",
       "    }\n",
       "\n",
       "    .dataframe thead th {\n",
       "        text-align: right;\n",
       "    }\n",
       "</style>\n",
       "<table border=\"1\" class=\"dataframe\">\n",
       "  <thead>\n",
       "    <tr style=\"text-align: right;\">\n",
       "      <th></th>\n",
       "      <th>mileage</th>\n",
       "      <th>make</th>\n",
       "      <th>model</th>\n",
       "      <th>fuel</th>\n",
       "      <th>gear</th>\n",
       "      <th>offerType</th>\n",
       "      <th>price</th>\n",
       "      <th>hp</th>\n",
       "      <th>year</th>\n",
       "    </tr>\n",
       "  </thead>\n",
       "  <tbody>\n",
       "    <tr>\n",
       "      <th>0</th>\n",
       "      <td>235000</td>\n",
       "      <td>BMW</td>\n",
       "      <td>316</td>\n",
       "      <td>Diesel</td>\n",
       "      <td>Manual</td>\n",
       "      <td>Used</td>\n",
       "      <td>6800</td>\n",
       "      <td>116.0</td>\n",
       "      <td>2011</td>\n",
       "    </tr>\n",
       "    <tr>\n",
       "      <th>1</th>\n",
       "      <td>92800</td>\n",
       "      <td>Volkswagen</td>\n",
       "      <td>Golf</td>\n",
       "      <td>Gasoline</td>\n",
       "      <td>Manual</td>\n",
       "      <td>Used</td>\n",
       "      <td>6877</td>\n",
       "      <td>122.0</td>\n",
       "      <td>2011</td>\n",
       "    </tr>\n",
       "    <tr>\n",
       "      <th>2</th>\n",
       "      <td>149300</td>\n",
       "      <td>SEAT</td>\n",
       "      <td>Exeo</td>\n",
       "      <td>Gasoline</td>\n",
       "      <td>Manual</td>\n",
       "      <td>Used</td>\n",
       "      <td>6900</td>\n",
       "      <td>160.0</td>\n",
       "      <td>2011</td>\n",
       "    </tr>\n",
       "    <tr>\n",
       "      <th>3</th>\n",
       "      <td>96200</td>\n",
       "      <td>Renault</td>\n",
       "      <td>Megane</td>\n",
       "      <td>Gasoline</td>\n",
       "      <td>Manual</td>\n",
       "      <td>Used</td>\n",
       "      <td>6950</td>\n",
       "      <td>110.0</td>\n",
       "      <td>2011</td>\n",
       "    </tr>\n",
       "    <tr>\n",
       "      <th>4</th>\n",
       "      <td>156000</td>\n",
       "      <td>Peugeot</td>\n",
       "      <td>308</td>\n",
       "      <td>Gasoline</td>\n",
       "      <td>Manual</td>\n",
       "      <td>Used</td>\n",
       "      <td>6950</td>\n",
       "      <td>156.0</td>\n",
       "      <td>2011</td>\n",
       "    </tr>\n",
       "  </tbody>\n",
       "</table>\n",
       "</div>"
      ],
      "text/plain": [
       "   mileage        make   model      fuel    gear offerType  price     hp  year\n",
       "0   235000         BMW     316    Diesel  Manual      Used   6800  116.0  2011\n",
       "1    92800  Volkswagen    Golf  Gasoline  Manual      Used   6877  122.0  2011\n",
       "2   149300        SEAT    Exeo  Gasoline  Manual      Used   6900  160.0  2011\n",
       "3    96200     Renault  Megane  Gasoline  Manual      Used   6950  110.0  2011\n",
       "4   156000     Peugeot     308  Gasoline  Manual      Used   6950  156.0  2011"
      ]
     },
     "execution_count": 3,
     "metadata": {},
     "output_type": "execute_result"
    }
   ],
   "source": [
    "df.head()"
   ]
  },
  {
   "cell_type": "raw",
   "id": "543a3231-14df-46ec-b03c-4f06fb35a9f5",
   "metadata": {},
   "source": [
    "Проверяем общее количество пропущенных значений."
   ]
  },
  {
   "cell_type": "code",
   "execution_count": 4,
   "id": "348bd65c-d85b-4c78-af4b-4898cd39c4ba",
   "metadata": {},
   "outputs": [
    {
     "data": {
      "text/plain": [
       "mileage        0\n",
       "make           0\n",
       "model        143\n",
       "fuel           0\n",
       "gear         182\n",
       "offerType      0\n",
       "price          0\n",
       "hp            29\n",
       "year           0\n",
       "dtype: int64"
      ]
     },
     "execution_count": 4,
     "metadata": {},
     "output_type": "execute_result"
    }
   ],
   "source": [
    "df.isnull().sum()"
   ]
  },
  {
   "cell_type": "markdown",
   "id": "5a13cb2d-1f02-4fed-9cac-0d4d269d5ef2",
   "metadata": {},
   "source": [
    "признаки model, gear, hp имеют пропущенные значения"
   ]
  },
  {
   "cell_type": "markdown",
   "id": "633145e3-7a85-4cc7-b2f6-850a19f53abb",
   "metadata": {},
   "source": [
    "Можем посмотреть среднюю цену авто"
   ]
  },
  {
   "cell_type": "code",
   "execution_count": 5,
   "id": "069dc66e-36ef-475f-8355-35c34f5bf3c1",
   "metadata": {},
   "outputs": [
    {
     "data": {
      "text/plain": [
       "16572.3372"
      ]
     },
     "execution_count": 5,
     "metadata": {},
     "output_type": "execute_result"
    }
   ],
   "source": [
    "df['price'].mean()"
   ]
  },
  {
   "cell_type": "markdown",
   "id": "81a480ba-9878-4fa7-8cb7-a09e8ae26d43",
   "metadata": {},
   "source": [
    "## Анализ признаков\n",
    "\n",
    "Все признаки важны для нахождения цены автомобиля. "
   ]
  },
  {
   "cell_type": "markdown",
   "id": "706cbe17-b9b0-483a-9c1c-4581a5debcfa",
   "metadata": {},
   "source": [
    "# Признак mileage\n"
   ]
  },
  {
   "cell_type": "code",
   "execution_count": 6,
   "id": "19f539b0-c9be-45ce-b490-dded322b6e9f",
   "metadata": {},
   "outputs": [
    {
     "data": {
      "text/plain": [
       "<Axes: xlabel='mileage', ylabel='price'>"
      ]
     },
     "execution_count": 6,
     "metadata": {},
     "output_type": "execute_result"
    },
    {
     "data": {
      "image/png": "[encoded data removed]",
      "text/plain": [
       "<Figure size 640x480 with 1 Axes>"
      ]
     },
     "metadata": {},
     "output_type": "display_data"
    }
   ],
   "source": [
    "tmp = df[(df['mileage'] < df['mileage'].quantile(0.99)) & (df['price'] < df['price'].quantile(0.99))]\n",
    "sns.lineplot(x = 'mileage', y = 'price', data=tmp)"
   ]
  },
  {
   "cell_type": "markdown",
   "id": "bb00ea55-773a-4b09-91ef-2d2b878186da",
   "metadata": {},
   "source": [
    "Мы видим что предсказываемый признак цена, зависит от пробега. Чем больше пробег, тем ниже цена.\n",
    "\n",
    "Можно узнать средний пробег\n",
    "\n"
   ]
  },
  {
   "cell_type": "code",
   "execution_count": 7,
   "id": "568cfb9d-21a9-43ba-9784-74fb4f20e1df",
   "metadata": {},
   "outputs": [
    {
     "data": {
      "text/plain": [
       "71177.8641"
      ]
     },
     "execution_count": 7,
     "metadata": {},
     "output_type": "execute_result"
    }
   ],
   "source": [
    "df['mileage'].mean()"
   ]
  },
  {
   "cell_type": "markdown",
   "id": "bc70c8d2-fc5f-4b8b-bf91-6748af93c9c0",
   "metadata": {},
   "source": [
    "# Признак make"
   ]
  },
  {
   "cell_type": "code",
   "execution_count": 8,
   "id": "fa2678b7-9c08-464a-84aa-f0913aee907d",
   "metadata": {},
   "outputs": [
    {
     "data": {
      "text/plain": [
       "<Axes: xlabel='make', ylabel='price'>"
      ]
     },
     "execution_count": 8,
     "metadata": {},
     "output_type": "execute_result"
    },
    {
     "data": {
      "image/png": "[encoded data removed]",
      "text/plain": [
       "<Figure size 1200x600 with 1 Axes>"
      ]
     },
     "metadata": {},
     "output_type": "display_data"
    }
   ],
   "source": [
    "top_makes = tmp['make'].value_counts().head(10).index\n",
    "plt.figure(figsize=(12, 6))\n",
    "sns.barplot(x='make', y='price', data=tmp[tmp['make'].isin(top_makes)], order=top_makes)"
   ]
  },
  {
   "cell_type": "markdown",
   "id": "74e66761-759a-4286-8376-3a3ea474b7fe",
   "metadata": {},
   "source": [
    "Мы видим что цена напрямую зависит от производителя авто. Премиальные марки естественно дороже."
   ]
  },
  {
   "cell_type": "markdown",
   "id": "a1bdfb4b-aa97-4e1a-994c-3b6020f801c3",
   "metadata": {},
   "source": [
    "# Признак model"
   ]
  },
  {
   "cell_type": "markdown",
   "id": "8830123d-5057-4185-8179-ba512fe8d9d5",
   "metadata": {},
   "source": [
    "Так же цена зависит и от модели авто, это не менее важно чем его марка. Тут у нас есть пропущенные значения, данных у нас много, а пропущенных значений мало и восстановить модель достаточно проблематично, поэтому можно их просто удалить."
   ]
  },
  {
   "cell_type": "code",
   "execution_count": 9,
   "id": "0a5b94fb-5f8b-48a8-90fb-0b2447a1d829",
   "metadata": {},
   "outputs": [],
   "source": [
    "df = df.dropna(subset=['model'])\n"
   ]
  },
  {
   "cell_type": "code",
   "execution_count": 10,
   "id": "e5cae833-1995-4106-9c55-7b4ec3475c0d",
   "metadata": {},
   "outputs": [
    {
     "data": {
      "text/plain": [
       "mileage        0\n",
       "make           0\n",
       "model          0\n",
       "fuel           0\n",
       "gear         167\n",
       "offerType      0\n",
       "price          0\n",
       "hp            26\n",
       "year           0\n",
       "dtype: int64"
      ]
     },
     "execution_count": 10,
     "metadata": {},
     "output_type": "execute_result"
    }
   ],
   "source": [
    "df.isnull().sum()"
   ]
  },
  {
   "cell_type": "code",
   "execution_count": 11,
   "id": "985a3715-a9ae-4a47-bc00-19d94d63eee4",
   "metadata": {},
   "outputs": [
    {
     "data": {
      "text/plain": [
       "<Axes: xlabel='model', ylabel='price'>"
      ]
     },
     "execution_count": 11,
     "metadata": {},
     "output_type": "execute_result"
    },
    {
     "data": {
      "image/png": "[encoded data removed]",
      "text/plain": [
       "<Figure size 1200x600 with 1 Axes>"
      ]
     },
     "metadata": {},
     "output_type": "display_data"
    }
   ],
   "source": [
    "top_models = tmp['model'].value_counts().head(10).index\n",
    "plt.figure(figsize=(12, 6))\n",
    "sns.barplot(x='model', y='price', data=tmp[tmp['model'].isin(top_models)], order=top_models)"
   ]
  },
  {
   "cell_type": "markdown",
   "id": "3762d2fe-5375-4ff3-bf3a-e0264d10eae9",
   "metadata": {},
   "source": [
    "Как и с марками, модель тоже напрямую влияет на цену авто."
   ]
  },
  {
   "cell_type": "markdown",
   "id": "c96c563c-62e5-4bf8-9d26-514da3b05ad7",
   "metadata": {},
   "source": [
    "# Признак gear"
   ]
  },
  {
   "cell_type": "markdown",
   "id": "8c020474-18e1-4720-a0eb-ab3fa3b22401",
   "metadata": {},
   "source": [
    "Тип КПП так же влияет на цену авто, но не очень сильно. Но мы оставим его, чтобы модель была точнее и восстановим отстутствующие значения. Тут это сделать не сложно, пропуски можно заполнить средним значением по модели т.к. даже если мы окажемся не правы, это не сильно исказит цену авто.\n",
    "\n",
    "Для этого надо будет преобразовать значения. Automatic и semi-automatic мы сделаем 1, а manual сделаем 0."
   ]
  },
  {
   "cell_type": "code",
   "execution_count": 12,
   "id": "536624e1-6f59-4626-a1d5-a9bccdb56266",
   "metadata": {},
   "outputs": [],
   "source": [
    "gear_mapping = {\n",
    "    'Manual': 0,\n",
    "    'Automatic': 1,\n",
    "    'Semi-automatic': 1\n",
    "}\n",
    "df['gear'] = df['gear'].map(gear_mapping)\n",
    "gear_mean_by_model = df.groupby('model')['gear'].transform('mean')\n",
    "df['gear'] = df['gear'].fillna(gear_mean_by_model.round())"
   ]
  },
  {
   "cell_type": "code",
   "execution_count": 13,
   "id": "a2a8a703-e53e-403c-be46-177df1406362",
   "metadata": {},
   "outputs": [
    {
     "data": {
      "text/plain": [
       "mileage       0\n",
       "make          0\n",
       "model         0\n",
       "fuel          0\n",
       "gear          8\n",
       "offerType     0\n",
       "price         0\n",
       "hp           26\n",
       "year          0\n",
       "dtype: int64"
      ]
     },
     "execution_count": 13,
     "metadata": {},
     "output_type": "execute_result"
    }
   ],
   "source": [
    "df.isnull().sum()"
   ]
  },
  {
   "cell_type": "markdown",
   "id": "6da790b9-b4d1-4a37-b7b3-0469649c940e",
   "metadata": {},
   "source": [
    "Осталось 8 пропусков. Это скорее всего какие то редкие модели, которые представленны в нашем датасете в единственном экземпляре."
   ]
  },
  {
   "cell_type": "code",
   "execution_count": 14,
   "id": "fe7c1a19-c3b6-45a9-818c-e8eaf3795e33",
   "metadata": {},
   "outputs": [
    {
     "data": {
      "text/html": [
       "<div>\n",
       "<style scoped>\n",
       "    .dataframe tbody tr th:only-of-type {\n",
       "        vertical-align: middle;\n",
       "    }\n",
       "\n",
       "    .dataframe tbody tr th {\n",
       "        vertical-align: top;\n",
       "    }\n",
       "\n",
       "    .dataframe thead th {\n",
       "        text-align: right;\n",
       "    }\n",
       "</style>\n",
       "<table border=\"1\" class=\"dataframe\">\n",
       "  <thead>\n",
       "    <tr style=\"text-align: right;\">\n",
       "      <th></th>\n",
       "      <th>mileage</th>\n",
       "      <th>make</th>\n",
       "      <th>model</th>\n",
       "      <th>fuel</th>\n",
       "      <th>gear</th>\n",
       "      <th>offerType</th>\n",
       "      <th>price</th>\n",
       "      <th>hp</th>\n",
       "      <th>year</th>\n",
       "    </tr>\n",
       "  </thead>\n",
       "  <tbody>\n",
       "    <tr>\n",
       "      <th>3246</th>\n",
       "      <td>79000</td>\n",
       "      <td>Volkswagen</td>\n",
       "      <td>Pointer</td>\n",
       "      <td>Diesel</td>\n",
       "      <td>NaN</td>\n",
       "      <td>Used</td>\n",
       "      <td>6900</td>\n",
       "      <td>90.0</td>\n",
       "      <td>2016</td>\n",
       "    </tr>\n",
       "    <tr>\n",
       "      <th>5092</th>\n",
       "      <td>107130</td>\n",
       "      <td>Dodge</td>\n",
       "      <td>Nitro</td>\n",
       "      <td>Gasoline</td>\n",
       "      <td>NaN</td>\n",
       "      <td>Used</td>\n",
       "      <td>9700</td>\n",
       "      <td>260.0</td>\n",
       "      <td>2012</td>\n",
       "    </tr>\n",
       "    <tr>\n",
       "      <th>8967</th>\n",
       "      <td>79000</td>\n",
       "      <td>Volkswagen</td>\n",
       "      <td>Pointer</td>\n",
       "      <td>Diesel</td>\n",
       "      <td>NaN</td>\n",
       "      <td>Used</td>\n",
       "      <td>6900</td>\n",
       "      <td>90.0</td>\n",
       "      <td>2016</td>\n",
       "    </tr>\n",
       "    <tr>\n",
       "      <th>14604</th>\n",
       "      <td>38000</td>\n",
       "      <td>Tazzari</td>\n",
       "      <td>EV Zero Classic</td>\n",
       "      <td>Electric</td>\n",
       "      <td>NaN</td>\n",
       "      <td>Used</td>\n",
       "      <td>6500</td>\n",
       "      <td>20.0</td>\n",
       "      <td>2012</td>\n",
       "    </tr>\n",
       "    <tr>\n",
       "      <th>14675</th>\n",
       "      <td>312000</td>\n",
       "      <td>Trucks-Lkw</td>\n",
       "      <td>Ford</td>\n",
       "      <td>Diesel</td>\n",
       "      <td>NaN</td>\n",
       "      <td>Used</td>\n",
       "      <td>8200</td>\n",
       "      <td>131.0</td>\n",
       "      <td>2016</td>\n",
       "    </tr>\n",
       "    <tr>\n",
       "      <th>23700</th>\n",
       "      <td>128000</td>\n",
       "      <td>Volkswagen</td>\n",
       "      <td>Pointer</td>\n",
       "      <td>Diesel</td>\n",
       "      <td>NaN</td>\n",
       "      <td>Used</td>\n",
       "      <td>4850</td>\n",
       "      <td>75.0</td>\n",
       "      <td>2012</td>\n",
       "    </tr>\n",
       "    <tr>\n",
       "      <th>39762</th>\n",
       "      <td>2000</td>\n",
       "      <td>Caravans-Wohnm</td>\n",
       "      <td>Adria</td>\n",
       "      <td>-/- (Fuel)</td>\n",
       "      <td>NaN</td>\n",
       "      <td>Used</td>\n",
       "      <td>24500</td>\n",
       "      <td>NaN</td>\n",
       "      <td>2016</td>\n",
       "    </tr>\n",
       "    <tr>\n",
       "      <th>46326</th>\n",
       "      <td>45</td>\n",
       "      <td>BMW</td>\n",
       "      <td>iX3</td>\n",
       "      <td>Electric</td>\n",
       "      <td>NaN</td>\n",
       "      <td>Used</td>\n",
       "      <td>58000</td>\n",
       "      <td>286.0</td>\n",
       "      <td>2021</td>\n",
       "    </tr>\n",
       "  </tbody>\n",
       "</table>\n",
       "</div>"
      ],
      "text/plain": [
       "       mileage            make            model        fuel  gear offerType  \\\n",
       "3246     79000      Volkswagen          Pointer      Diesel   NaN      Used   \n",
       "5092    107130           Dodge            Nitro    Gasoline   NaN      Used   \n",
       "8967     79000      Volkswagen          Pointer      Diesel   NaN      Used   \n",
       "14604    38000         Tazzari  EV Zero Classic    Electric   NaN      Used   \n",
       "14675   312000      Trucks-Lkw             Ford      Diesel   NaN      Used   \n",
       "23700   128000      Volkswagen          Pointer      Diesel   NaN      Used   \n",
       "39762     2000  Caravans-Wohnm            Adria  -/- (Fuel)   NaN      Used   \n",
       "46326       45             BMW              iX3    Electric   NaN      Used   \n",
       "\n",
       "       price     hp  year  \n",
       "3246    6900   90.0  2016  \n",
       "5092    9700  260.0  2012  \n",
       "8967    6900   90.0  2016  \n",
       "14604   6500   20.0  2012  \n",
       "14675   8200  131.0  2016  \n",
       "23700   4850   75.0  2012  \n",
       "39762  24500    NaN  2016  \n",
       "46326  58000  286.0  2021  "
      ]
     },
     "execution_count": 14,
     "metadata": {},
     "output_type": "execute_result"
    }
   ],
   "source": [
    "df[df['gear'].isna()]\n"
   ]
  },
  {
   "cell_type": "markdown",
   "id": "144b3a08-bcb2-4249-ae54-0ed480a3f905",
   "metadata": {},
   "source": [
    "Эти значения можно даже заполнить в ручную, т.к. пропусков осталось не много и можно проанализировать.\n",
    "\n",
    "- Volkswagen Pointer они все скорее всего на механике т.к. это одна из самых бюджетных моделей.\n",
    "- Dodge скорее всего на автомате, т.к. американские авто чаще всего идут на автомате.\n",
    "- Tazzari на автомате, т.к. это электричка.\n",
    "- Trucks-Lkw механика потому что это грузовик.\n",
    "- Caravans-Wohnm это вообще прицеп дома на колесах, предлагаю его просто удалить.\n",
    "- BMW автомат, тоже электричка."
   ]
  },
  {
   "cell_type": "code",
   "execution_count": 15,
   "id": "c9437699-21fd-4f29-b755-9c9b39cf2fc5",
   "metadata": {},
   "outputs": [],
   "source": [
    "df.loc[df['model'] == 'Pointer', 'gear'] = 0  \n",
    "df.loc[df['model'] == 'Nitro', 'gear'] = 1  \n",
    "df.loc[df['model'] == 'EV Zero Classic', 'gear'] = 1  \n",
    "df.loc[df['model'] == 'Ford', 'gear'] = 0  \n",
    "df.loc[df['model'] == 'iX3', 'gear'] = 1  \n",
    "df = df[df['model'] != 'Adria']"
   ]
  },
  {
   "cell_type": "code",
   "execution_count": 16,
   "id": "bb716941-dc4b-4029-9903-ba9d2d54cac0",
   "metadata": {},
   "outputs": [
    {
     "data": {
      "text/plain": [
       "mileage       0\n",
       "make          0\n",
       "model         0\n",
       "fuel          0\n",
       "gear          0\n",
       "offerType     0\n",
       "price         0\n",
       "hp           25\n",
       "year          0\n",
       "dtype: int64"
      ]
     },
     "execution_count": 16,
     "metadata": {},
     "output_type": "execute_result"
    }
   ],
   "source": [
    "df.isnull().sum()"
   ]
  },
  {
   "cell_type": "markdown",
   "id": "372e4d54-91da-41a8-9b3c-e51b231dfa8c",
   "metadata": {},
   "source": [
    "Все значения заполнены, можно посмотреть зависимость цены и типа коробки передач"
   ]
  },
  {
   "cell_type": "code",
   "execution_count": 17,
   "id": "29f3c329-33d8-49b4-bad5-b6e98cb98c6d",
   "metadata": {},
   "outputs": [
    {
     "data": {
      "image/png": "[encoded data removed]",
      "text/plain": [
       "<Figure size 640x480 with 1 Axes>"
      ]
     },
     "metadata": {},
     "output_type": "display_data"
    }
   ],
   "source": [
    "sns.barplot(x = \"gear\", y = \"price\", data = df);"
   ]
  },
  {
   "cell_type": "markdown",
   "id": "b58a9d1d-1ccd-404f-8516-235181f292a2",
   "metadata": {},
   "source": [
    "Видим, что на механике авто обычно дешевле"
   ]
  },
  {
   "cell_type": "markdown",
   "id": "177cec9a-6b2f-410b-beea-1ea3fed82c5b",
   "metadata": {},
   "source": [
    "# Признак hp и fuel"
   ]
  },
  {
   "cell_type": "markdown",
   "id": "63916767-bacf-40b7-aa4b-759170f179d2",
   "metadata": {},
   "source": [
    "В этом признаке так же, есть пропущенные значения их не много, можно их восстановить и посмотреть зависимость цены от лошадинных сил."
   ]
  },
  {
   "cell_type": "code",
   "execution_count": 18,
   "id": "bf1fff25-8308-450d-bf1b-6335fb70d923",
   "metadata": {},
   "outputs": [
    {
     "data": {
      "text/html": [
       "<div>\n",
       "<style scoped>\n",
       "    .dataframe tbody tr th:only-of-type {\n",
       "        vertical-align: middle;\n",
       "    }\n",
       "\n",
       "    .dataframe tbody tr th {\n",
       "        vertical-align: top;\n",
       "    }\n",
       "\n",
       "    .dataframe thead th {\n",
       "        text-align: right;\n",
       "    }\n",
       "</style>\n",
       "<table border=\"1\" class=\"dataframe\">\n",
       "  <thead>\n",
       "    <tr style=\"text-align: right;\">\n",
       "      <th></th>\n",
       "      <th>mileage</th>\n",
       "      <th>make</th>\n",
       "      <th>model</th>\n",
       "      <th>fuel</th>\n",
       "      <th>gear</th>\n",
       "      <th>offerType</th>\n",
       "      <th>price</th>\n",
       "      <th>hp</th>\n",
       "      <th>year</th>\n",
       "    </tr>\n",
       "  </thead>\n",
       "  <tbody>\n",
       "    <tr>\n",
       "      <th>482</th>\n",
       "      <td>36018</td>\n",
       "      <td>Mitsubishi</td>\n",
       "      <td>Space Star</td>\n",
       "      <td>Gasoline</td>\n",
       "      <td>0.0</td>\n",
       "      <td>Used</td>\n",
       "      <td>6222</td>\n",
       "      <td>NaN</td>\n",
       "      <td>2015</td>\n",
       "    </tr>\n",
       "    <tr>\n",
       "      <th>2368</th>\n",
       "      <td>36018</td>\n",
       "      <td>Mitsubishi</td>\n",
       "      <td>Space Star</td>\n",
       "      <td>Gasoline</td>\n",
       "      <td>0.0</td>\n",
       "      <td>Used</td>\n",
       "      <td>6222</td>\n",
       "      <td>NaN</td>\n",
       "      <td>2015</td>\n",
       "    </tr>\n",
       "    <tr>\n",
       "      <th>5552</th>\n",
       "      <td>129375</td>\n",
       "      <td>Peugeot</td>\n",
       "      <td>207</td>\n",
       "      <td>Gasoline</td>\n",
       "      <td>0.0</td>\n",
       "      <td>Used</td>\n",
       "      <td>5950</td>\n",
       "      <td>NaN</td>\n",
       "      <td>2013</td>\n",
       "    </tr>\n",
       "    <tr>\n",
       "      <th>5760</th>\n",
       "      <td>129375</td>\n",
       "      <td>Peugeot</td>\n",
       "      <td>207</td>\n",
       "      <td>Gasoline</td>\n",
       "      <td>0.0</td>\n",
       "      <td>Used</td>\n",
       "      <td>5950</td>\n",
       "      <td>NaN</td>\n",
       "      <td>2013</td>\n",
       "    </tr>\n",
       "    <tr>\n",
       "      <th>8892</th>\n",
       "      <td>71113</td>\n",
       "      <td>Opel</td>\n",
       "      <td>Corsa</td>\n",
       "      <td>Gasoline</td>\n",
       "      <td>0.0</td>\n",
       "      <td>Used</td>\n",
       "      <td>5666</td>\n",
       "      <td>NaN</td>\n",
       "      <td>2012</td>\n",
       "    </tr>\n",
       "    <tr>\n",
       "      <th>10575</th>\n",
       "      <td>72109</td>\n",
       "      <td>Ford</td>\n",
       "      <td>Fiesta</td>\n",
       "      <td>Gasoline</td>\n",
       "      <td>0.0</td>\n",
       "      <td>Used</td>\n",
       "      <td>6222</td>\n",
       "      <td>NaN</td>\n",
       "      <td>2013</td>\n",
       "    </tr>\n",
       "    <tr>\n",
       "      <th>10779</th>\n",
       "      <td>71113</td>\n",
       "      <td>Opel</td>\n",
       "      <td>Corsa</td>\n",
       "      <td>Gasoline</td>\n",
       "      <td>0.0</td>\n",
       "      <td>Used</td>\n",
       "      <td>5666</td>\n",
       "      <td>NaN</td>\n",
       "      <td>2012</td>\n",
       "    </tr>\n",
       "    <tr>\n",
       "      <th>10782</th>\n",
       "      <td>72109</td>\n",
       "      <td>Ford</td>\n",
       "      <td>Fiesta</td>\n",
       "      <td>Gasoline</td>\n",
       "      <td>0.0</td>\n",
       "      <td>Used</td>\n",
       "      <td>6222</td>\n",
       "      <td>NaN</td>\n",
       "      <td>2013</td>\n",
       "    </tr>\n",
       "    <tr>\n",
       "      <th>12000</th>\n",
       "      <td>139</td>\n",
       "      <td>Renault</td>\n",
       "      <td>Twingo</td>\n",
       "      <td>Electric</td>\n",
       "      <td>1.0</td>\n",
       "      <td>Demonstration</td>\n",
       "      <td>15990</td>\n",
       "      <td>NaN</td>\n",
       "      <td>2021</td>\n",
       "    </tr>\n",
       "    <tr>\n",
       "      <th>12549</th>\n",
       "      <td>46587</td>\n",
       "      <td>Opel</td>\n",
       "      <td>Corsa</td>\n",
       "      <td>-/- (Fuel)</td>\n",
       "      <td>0.0</td>\n",
       "      <td>Used</td>\n",
       "      <td>7555</td>\n",
       "      <td>NaN</td>\n",
       "      <td>2015</td>\n",
       "    </tr>\n",
       "    <tr>\n",
       "      <th>12858</th>\n",
       "      <td>1500</td>\n",
       "      <td>Citroen</td>\n",
       "      <td>C3</td>\n",
       "      <td>Gasoline</td>\n",
       "      <td>0.0</td>\n",
       "      <td>Demonstration</td>\n",
       "      <td>15750</td>\n",
       "      <td>NaN</td>\n",
       "      <td>2020</td>\n",
       "    </tr>\n",
       "    <tr>\n",
       "      <th>14010</th>\n",
       "      <td>46587</td>\n",
       "      <td>Opel</td>\n",
       "      <td>Corsa</td>\n",
       "      <td>-/- (Fuel)</td>\n",
       "      <td>0.0</td>\n",
       "      <td>Used</td>\n",
       "      <td>7555</td>\n",
       "      <td>NaN</td>\n",
       "      <td>2015</td>\n",
       "    </tr>\n",
       "    <tr>\n",
       "      <th>24953</th>\n",
       "      <td>0</td>\n",
       "      <td>Fiat</td>\n",
       "      <td>500</td>\n",
       "      <td>Electric</td>\n",
       "      <td>1.0</td>\n",
       "      <td>Demonstration</td>\n",
       "      <td>32990</td>\n",
       "      <td>NaN</td>\n",
       "      <td>2021</td>\n",
       "    </tr>\n",
       "    <tr>\n",
       "      <th>26612</th>\n",
       "      <td>7000</td>\n",
       "      <td>Hyundai</td>\n",
       "      <td>Kona</td>\n",
       "      <td>Electric</td>\n",
       "      <td>1.0</td>\n",
       "      <td>Used</td>\n",
       "      <td>30490</td>\n",
       "      <td>NaN</td>\n",
       "      <td>2019</td>\n",
       "    </tr>\n",
       "    <tr>\n",
       "      <th>27469</th>\n",
       "      <td>3000</td>\n",
       "      <td>smart</td>\n",
       "      <td>forTwo</td>\n",
       "      <td>Electric</td>\n",
       "      <td>1.0</td>\n",
       "      <td>Demonstration</td>\n",
       "      <td>18890</td>\n",
       "      <td>NaN</td>\n",
       "      <td>2021</td>\n",
       "    </tr>\n",
       "    <tr>\n",
       "      <th>27659</th>\n",
       "      <td>12128</td>\n",
       "      <td>Opel</td>\n",
       "      <td>Insignia</td>\n",
       "      <td>Gasoline</td>\n",
       "      <td>0.0</td>\n",
       "      <td>Used</td>\n",
       "      <td>20850</td>\n",
       "      <td>NaN</td>\n",
       "      <td>2019</td>\n",
       "    </tr>\n",
       "    <tr>\n",
       "      <th>30919</th>\n",
       "      <td>351000</td>\n",
       "      <td>Dacia</td>\n",
       "      <td>Duster</td>\n",
       "      <td>Gasoline</td>\n",
       "      <td>0.0</td>\n",
       "      <td>Used</td>\n",
       "      <td>4390</td>\n",
       "      <td>NaN</td>\n",
       "      <td>2012</td>\n",
       "    </tr>\n",
       "    <tr>\n",
       "      <th>30920</th>\n",
       "      <td>351000</td>\n",
       "      <td>Dacia</td>\n",
       "      <td>Duster</td>\n",
       "      <td>LPG</td>\n",
       "      <td>0.0</td>\n",
       "      <td>Used</td>\n",
       "      <td>4390</td>\n",
       "      <td>NaN</td>\n",
       "      <td>2012</td>\n",
       "    </tr>\n",
       "    <tr>\n",
       "      <th>31190</th>\n",
       "      <td>40357</td>\n",
       "      <td>Mitsubishi</td>\n",
       "      <td>Space Star</td>\n",
       "      <td>Gasoline</td>\n",
       "      <td>0.0</td>\n",
       "      <td>Used</td>\n",
       "      <td>5444</td>\n",
       "      <td>NaN</td>\n",
       "      <td>2015</td>\n",
       "    </tr>\n",
       "    <tr>\n",
       "      <th>34328</th>\n",
       "      <td>78637</td>\n",
       "      <td>Skoda</td>\n",
       "      <td>Fabia</td>\n",
       "      <td>Gasoline</td>\n",
       "      <td>0.0</td>\n",
       "      <td>Used</td>\n",
       "      <td>5999</td>\n",
       "      <td>NaN</td>\n",
       "      <td>2011</td>\n",
       "    </tr>\n",
       "    <tr>\n",
       "      <th>38049</th>\n",
       "      <td>999999</td>\n",
       "      <td>BMW</td>\n",
       "      <td>320</td>\n",
       "      <td>-/- (Fuel)</td>\n",
       "      <td>1.0</td>\n",
       "      <td>Used</td>\n",
       "      <td>1999</td>\n",
       "      <td>NaN</td>\n",
       "      <td>2014</td>\n",
       "    </tr>\n",
       "    <tr>\n",
       "      <th>44772</th>\n",
       "      <td>5729</td>\n",
       "      <td>Mercedes-Benz</td>\n",
       "      <td>C 200</td>\n",
       "      <td>Gasoline</td>\n",
       "      <td>1.0</td>\n",
       "      <td>Employee's car</td>\n",
       "      <td>36870</td>\n",
       "      <td>NaN</td>\n",
       "      <td>2020</td>\n",
       "    </tr>\n",
       "    <tr>\n",
       "      <th>45922</th>\n",
       "      <td>10</td>\n",
       "      <td>Fiat</td>\n",
       "      <td>500</td>\n",
       "      <td>Electric</td>\n",
       "      <td>1.0</td>\n",
       "      <td>Demonstration</td>\n",
       "      <td>33690</td>\n",
       "      <td>NaN</td>\n",
       "      <td>2021</td>\n",
       "    </tr>\n",
       "    <tr>\n",
       "      <th>45923</th>\n",
       "      <td>10</td>\n",
       "      <td>Fiat</td>\n",
       "      <td>500C</td>\n",
       "      <td>Electric</td>\n",
       "      <td>1.0</td>\n",
       "      <td>Demonstration</td>\n",
       "      <td>36890</td>\n",
       "      <td>NaN</td>\n",
       "      <td>2021</td>\n",
       "    </tr>\n",
       "    <tr>\n",
       "      <th>45924</th>\n",
       "      <td>363</td>\n",
       "      <td>Fiat</td>\n",
       "      <td>500C</td>\n",
       "      <td>Electric</td>\n",
       "      <td>1.0</td>\n",
       "      <td>Demonstration</td>\n",
       "      <td>36890</td>\n",
       "      <td>NaN</td>\n",
       "      <td>2021</td>\n",
       "    </tr>\n",
       "  </tbody>\n",
       "</table>\n",
       "</div>"
      ],
      "text/plain": [
       "       mileage           make       model        fuel  gear       offerType  \\\n",
       "482      36018     Mitsubishi  Space Star    Gasoline   0.0            Used   \n",
       "2368     36018     Mitsubishi  Space Star    Gasoline   0.0            Used   \n",
       "5552    129375        Peugeot         207    Gasoline   0.0            Used   \n",
       "5760    129375        Peugeot         207    Gasoline   0.0            Used   \n",
       "8892     71113           Opel       Corsa    Gasoline   0.0            Used   \n",
       "10575    72109           Ford      Fiesta    Gasoline   0.0            Used   \n",
       "10779    71113           Opel       Corsa    Gasoline   0.0            Used   \n",
       "10782    72109           Ford      Fiesta    Gasoline   0.0            Used   \n",
       "12000      139        Renault      Twingo    Electric   1.0   Demonstration   \n",
       "12549    46587           Opel       Corsa  -/- (Fuel)   0.0            Used   \n",
       "12858     1500        Citroen          C3    Gasoline   0.0   Demonstration   \n",
       "14010    46587           Opel       Corsa  -/- (Fuel)   0.0            Used   \n",
       "24953        0           Fiat         500    Electric   1.0   Demonstration   \n",
       "26612     7000        Hyundai        Kona    Electric   1.0            Used   \n",
       "27469     3000          smart      forTwo    Electric   1.0   Demonstration   \n",
       "27659    12128           Opel    Insignia    Gasoline   0.0            Used   \n",
       "30919   351000          Dacia      Duster    Gasoline   0.0            Used   \n",
       "30920   351000          Dacia      Duster         LPG   0.0            Used   \n",
       "31190    40357     Mitsubishi  Space Star    Gasoline   0.0            Used   \n",
       "34328    78637          Skoda       Fabia    Gasoline   0.0            Used   \n",
       "38049   999999            BMW         320  -/- (Fuel)   1.0            Used   \n",
       "44772     5729  Mercedes-Benz       C 200    Gasoline   1.0  Employee's car   \n",
       "45922       10           Fiat         500    Electric   1.0   Demonstration   \n",
       "45923       10           Fiat        500C    Electric   1.0   Demonstration   \n",
       "45924      363           Fiat        500C    Electric   1.0   Demonstration   \n",
       "\n",
       "       price  hp  year  \n",
       "482     6222 NaN  2015  \n",
       "2368    6222 NaN  2015  \n",
       "5552    5950 NaN  2013  \n",
       "5760    5950 NaN  2013  \n",
       "8892    5666 NaN  2012  \n",
       "10575   6222 NaN  2013  \n",
       "10779   5666 NaN  2012  \n",
       "10782   6222 NaN  2013  \n",
       "12000  15990 NaN  2021  \n",
       "12549   7555 NaN  2015  \n",
       "12858  15750 NaN  2020  \n",
       "14010   7555 NaN  2015  \n",
       "24953  32990 NaN  2021  \n",
       "26612  30490 NaN  2019  \n",
       "27469  18890 NaN  2021  \n",
       "27659  20850 NaN  2019  \n",
       "30919   4390 NaN  2012  \n",
       "30920   4390 NaN  2012  \n",
       "31190   5444 NaN  2015  \n",
       "34328   5999 NaN  2011  \n",
       "38049   1999 NaN  2014  \n",
       "44772  36870 NaN  2020  \n",
       "45922  33690 NaN  2021  \n",
       "45923  36890 NaN  2021  \n",
       "45924  36890 NaN  2021  "
      ]
     },
     "execution_count": 18,
     "metadata": {},
     "output_type": "execute_result"
    }
   ],
   "source": [
    "df[df['hp'].isna()]"
   ]
  },
  {
   "cell_type": "markdown",
   "id": "bb103fc2-5346-4ad4-8570-03b220d6d50b",
   "metadata": {},
   "source": [
    "Можно так же заполнить пропуск средним значением для каждой модели и типа топлива."
   ]
  },
  {
   "cell_type": "code",
   "execution_count": 19,
   "id": "bc7c7062-99d3-4ee8-a8b7-39f58e5527f9",
   "metadata": {},
   "outputs": [],
   "source": [
    "hp_mean_by_model_fuel = df.groupby(['model', 'fuel'])['hp'].transform('mean')\n",
    "df['hp'] = df['hp'].fillna(hp_mean_by_model_fuel)"
   ]
  },
  {
   "cell_type": "code",
   "execution_count": 20,
   "id": "24c9048e-aafd-4fdf-a385-b13de29fa30b",
   "metadata": {},
   "outputs": [
    {
     "data": {
      "text/html": [
       "<div>\n",
       "<style scoped>\n",
       "    .dataframe tbody tr th:only-of-type {\n",
       "        vertical-align: middle;\n",
       "    }\n",
       "\n",
       "    .dataframe tbody tr th {\n",
       "        vertical-align: top;\n",
       "    }\n",
       "\n",
       "    .dataframe thead th {\n",
       "        text-align: right;\n",
       "    }\n",
       "</style>\n",
       "<table border=\"1\" class=\"dataframe\">\n",
       "  <thead>\n",
       "    <tr style=\"text-align: right;\">\n",
       "      <th></th>\n",
       "      <th>mileage</th>\n",
       "      <th>make</th>\n",
       "      <th>model</th>\n",
       "      <th>fuel</th>\n",
       "      <th>gear</th>\n",
       "      <th>offerType</th>\n",
       "      <th>price</th>\n",
       "      <th>hp</th>\n",
       "      <th>year</th>\n",
       "    </tr>\n",
       "  </thead>\n",
       "  <tbody>\n",
       "    <tr>\n",
       "      <th>12549</th>\n",
       "      <td>46587</td>\n",
       "      <td>Opel</td>\n",
       "      <td>Corsa</td>\n",
       "      <td>-/- (Fuel)</td>\n",
       "      <td>0.0</td>\n",
       "      <td>Used</td>\n",
       "      <td>7555</td>\n",
       "      <td>NaN</td>\n",
       "      <td>2015</td>\n",
       "    </tr>\n",
       "    <tr>\n",
       "      <th>14010</th>\n",
       "      <td>46587</td>\n",
       "      <td>Opel</td>\n",
       "      <td>Corsa</td>\n",
       "      <td>-/- (Fuel)</td>\n",
       "      <td>0.0</td>\n",
       "      <td>Used</td>\n",
       "      <td>7555</td>\n",
       "      <td>NaN</td>\n",
       "      <td>2015</td>\n",
       "    </tr>\n",
       "    <tr>\n",
       "      <th>38049</th>\n",
       "      <td>999999</td>\n",
       "      <td>BMW</td>\n",
       "      <td>320</td>\n",
       "      <td>-/- (Fuel)</td>\n",
       "      <td>1.0</td>\n",
       "      <td>Used</td>\n",
       "      <td>1999</td>\n",
       "      <td>NaN</td>\n",
       "      <td>2014</td>\n",
       "    </tr>\n",
       "    <tr>\n",
       "      <th>45923</th>\n",
       "      <td>10</td>\n",
       "      <td>Fiat</td>\n",
       "      <td>500C</td>\n",
       "      <td>Electric</td>\n",
       "      <td>1.0</td>\n",
       "      <td>Demonstration</td>\n",
       "      <td>36890</td>\n",
       "      <td>NaN</td>\n",
       "      <td>2021</td>\n",
       "    </tr>\n",
       "    <tr>\n",
       "      <th>45924</th>\n",
       "      <td>363</td>\n",
       "      <td>Fiat</td>\n",
       "      <td>500C</td>\n",
       "      <td>Electric</td>\n",
       "      <td>1.0</td>\n",
       "      <td>Demonstration</td>\n",
       "      <td>36890</td>\n",
       "      <td>NaN</td>\n",
       "      <td>2021</td>\n",
       "    </tr>\n",
       "  </tbody>\n",
       "</table>\n",
       "</div>"
      ],
      "text/plain": [
       "       mileage  make  model        fuel  gear      offerType  price  hp  year\n",
       "12549    46587  Opel  Corsa  -/- (Fuel)   0.0           Used   7555 NaN  2015\n",
       "14010    46587  Opel  Corsa  -/- (Fuel)   0.0           Used   7555 NaN  2015\n",
       "38049   999999   BMW    320  -/- (Fuel)   1.0           Used   1999 NaN  2014\n",
       "45923       10  Fiat   500C    Electric   1.0  Demonstration  36890 NaN  2021\n",
       "45924      363  Fiat   500C    Electric   1.0  Demonstration  36890 NaN  2021"
      ]
     },
     "execution_count": 20,
     "metadata": {},
     "output_type": "execute_result"
    }
   ],
   "source": [
    "df[df['hp'].isna()]"
   ]
  },
  {
   "cell_type": "markdown",
   "id": "955f495b-1d5f-4167-8ba5-dadb3cd95467",
   "metadata": {},
   "source": [
    "Видим что остались пропущенные значения, какое то значение в признаке fuel (-/- (Fuel)). Надо разобраться скорее всего это вместо пропуска."
   ]
  },
  {
   "cell_type": "code",
   "execution_count": 21,
   "id": "14e1d2ed-e9ba-48f8-9137-e48f7e4e9d95",
   "metadata": {},
   "outputs": [
    {
     "data": {
      "text/html": [
       "<div>\n",
       "<style scoped>\n",
       "    .dataframe tbody tr th:only-of-type {\n",
       "        vertical-align: middle;\n",
       "    }\n",
       "\n",
       "    .dataframe tbody tr th {\n",
       "        vertical-align: top;\n",
       "    }\n",
       "\n",
       "    .dataframe thead th {\n",
       "        text-align: right;\n",
       "    }\n",
       "</style>\n",
       "<table border=\"1\" class=\"dataframe\">\n",
       "  <thead>\n",
       "    <tr style=\"text-align: right;\">\n",
       "      <th></th>\n",
       "      <th>mileage</th>\n",
       "      <th>make</th>\n",
       "      <th>model</th>\n",
       "      <th>fuel</th>\n",
       "      <th>gear</th>\n",
       "      <th>offerType</th>\n",
       "      <th>price</th>\n",
       "      <th>hp</th>\n",
       "      <th>year</th>\n",
       "    </tr>\n",
       "  </thead>\n",
       "  <tbody>\n",
       "    <tr>\n",
       "      <th>286</th>\n",
       "      <td>120500</td>\n",
       "      <td>Honda</td>\n",
       "      <td>Civic</td>\n",
       "      <td>-/- (Fuel)</td>\n",
       "      <td>0.0</td>\n",
       "      <td>Used</td>\n",
       "      <td>8990</td>\n",
       "      <td>141.0</td>\n",
       "      <td>2014</td>\n",
       "    </tr>\n",
       "    <tr>\n",
       "      <th>303</th>\n",
       "      <td>53000</td>\n",
       "      <td>Skoda</td>\n",
       "      <td>Fabia</td>\n",
       "      <td>-/- (Fuel)</td>\n",
       "      <td>0.0</td>\n",
       "      <td>Used</td>\n",
       "      <td>8990</td>\n",
       "      <td>110.0</td>\n",
       "      <td>2015</td>\n",
       "    </tr>\n",
       "    <tr>\n",
       "      <th>776</th>\n",
       "      <td>3500</td>\n",
       "      <td>Volkswagen</td>\n",
       "      <td>Passat</td>\n",
       "      <td>-/- (Fuel)</td>\n",
       "      <td>1.0</td>\n",
       "      <td>Used</td>\n",
       "      <td>34900</td>\n",
       "      <td>156.0</td>\n",
       "      <td>2020</td>\n",
       "    </tr>\n",
       "    <tr>\n",
       "      <th>2986</th>\n",
       "      <td>110000</td>\n",
       "      <td>Ford</td>\n",
       "      <td>Fiesta</td>\n",
       "      <td>-/- (Fuel)</td>\n",
       "      <td>1.0</td>\n",
       "      <td>Used</td>\n",
       "      <td>8900</td>\n",
       "      <td>101.0</td>\n",
       "      <td>2014</td>\n",
       "    </tr>\n",
       "    <tr>\n",
       "      <th>3661</th>\n",
       "      <td>49200</td>\n",
       "      <td>Hyundai</td>\n",
       "      <td>i30</td>\n",
       "      <td>-/- (Fuel)</td>\n",
       "      <td>0.0</td>\n",
       "      <td>Used</td>\n",
       "      <td>9990</td>\n",
       "      <td>135.0</td>\n",
       "      <td>2015</td>\n",
       "    </tr>\n",
       "    <tr>\n",
       "      <th>3907</th>\n",
       "      <td>86000</td>\n",
       "      <td>Tesla</td>\n",
       "      <td>Model X</td>\n",
       "      <td>-/- (Fuel)</td>\n",
       "      <td>1.0</td>\n",
       "      <td>Used</td>\n",
       "      <td>69700</td>\n",
       "      <td>562.0</td>\n",
       "      <td>2017</td>\n",
       "    </tr>\n",
       "    <tr>\n",
       "      <th>3908</th>\n",
       "      <td>86000</td>\n",
       "      <td>Tesla</td>\n",
       "      <td>Model X</td>\n",
       "      <td>-/- (Fuel)</td>\n",
       "      <td>1.0</td>\n",
       "      <td>Used</td>\n",
       "      <td>69700</td>\n",
       "      <td>562.0</td>\n",
       "      <td>2017</td>\n",
       "    </tr>\n",
       "    <tr>\n",
       "      <th>4869</th>\n",
       "      <td>1500</td>\n",
       "      <td>Ford</td>\n",
       "      <td>Fiesta</td>\n",
       "      <td>-/- (Fuel)</td>\n",
       "      <td>0.0</td>\n",
       "      <td>Used</td>\n",
       "      <td>14990</td>\n",
       "      <td>75.0</td>\n",
       "      <td>2021</td>\n",
       "    </tr>\n",
       "    <tr>\n",
       "      <th>7091</th>\n",
       "      <td>18521</td>\n",
       "      <td>Renault</td>\n",
       "      <td>ZOE</td>\n",
       "      <td>-/- (Fuel)</td>\n",
       "      <td>1.0</td>\n",
       "      <td>Used</td>\n",
       "      <td>8995</td>\n",
       "      <td>92.0</td>\n",
       "      <td>2017</td>\n",
       "    </tr>\n",
       "    <tr>\n",
       "      <th>12131</th>\n",
       "      <td>83000</td>\n",
       "      <td>Skoda</td>\n",
       "      <td>Octavia</td>\n",
       "      <td>-/- (Fuel)</td>\n",
       "      <td>0.0</td>\n",
       "      <td>Used</td>\n",
       "      <td>10900</td>\n",
       "      <td>110.0</td>\n",
       "      <td>2016</td>\n",
       "    </tr>\n",
       "    <tr>\n",
       "      <th>12549</th>\n",
       "      <td>46587</td>\n",
       "      <td>Opel</td>\n",
       "      <td>Corsa</td>\n",
       "      <td>-/- (Fuel)</td>\n",
       "      <td>0.0</td>\n",
       "      <td>Used</td>\n",
       "      <td>7555</td>\n",
       "      <td>NaN</td>\n",
       "      <td>2015</td>\n",
       "    </tr>\n",
       "    <tr>\n",
       "      <th>14010</th>\n",
       "      <td>46587</td>\n",
       "      <td>Opel</td>\n",
       "      <td>Corsa</td>\n",
       "      <td>-/- (Fuel)</td>\n",
       "      <td>0.0</td>\n",
       "      <td>Used</td>\n",
       "      <td>7555</td>\n",
       "      <td>NaN</td>\n",
       "      <td>2015</td>\n",
       "    </tr>\n",
       "    <tr>\n",
       "      <th>17712</th>\n",
       "      <td>91229</td>\n",
       "      <td>Volkswagen</td>\n",
       "      <td>up!</td>\n",
       "      <td>-/- (Fuel)</td>\n",
       "      <td>0.0</td>\n",
       "      <td>Used</td>\n",
       "      <td>6950</td>\n",
       "      <td>68.0</td>\n",
       "      <td>2018</td>\n",
       "    </tr>\n",
       "    <tr>\n",
       "      <th>19983</th>\n",
       "      <td>43126</td>\n",
       "      <td>Ford</td>\n",
       "      <td>Fiesta</td>\n",
       "      <td>-/- (Fuel)</td>\n",
       "      <td>0.0</td>\n",
       "      <td>Used</td>\n",
       "      <td>10990</td>\n",
       "      <td>101.0</td>\n",
       "      <td>2017</td>\n",
       "    </tr>\n",
       "    <tr>\n",
       "      <th>21476</th>\n",
       "      <td>52779</td>\n",
       "      <td>Hyundai</td>\n",
       "      <td>Tucson</td>\n",
       "      <td>-/- (Fuel)</td>\n",
       "      <td>0.0</td>\n",
       "      <td>Used</td>\n",
       "      <td>17490</td>\n",
       "      <td>177.0</td>\n",
       "      <td>2017</td>\n",
       "    </tr>\n",
       "    <tr>\n",
       "      <th>23938</th>\n",
       "      <td>120000</td>\n",
       "      <td>Nissan</td>\n",
       "      <td>Micra</td>\n",
       "      <td>-/- (Fuel)</td>\n",
       "      <td>0.0</td>\n",
       "      <td>Used</td>\n",
       "      <td>5555</td>\n",
       "      <td>80.0</td>\n",
       "      <td>2013</td>\n",
       "    </tr>\n",
       "    <tr>\n",
       "      <th>25814</th>\n",
       "      <td>207000</td>\n",
       "      <td>Fiat</td>\n",
       "      <td>Scudo</td>\n",
       "      <td>-/- (Fuel)</td>\n",
       "      <td>0.0</td>\n",
       "      <td>Used</td>\n",
       "      <td>3700</td>\n",
       "      <td>90.0</td>\n",
       "      <td>2012</td>\n",
       "    </tr>\n",
       "    <tr>\n",
       "      <th>27314</th>\n",
       "      <td>78150</td>\n",
       "      <td>Ford</td>\n",
       "      <td>Fiesta</td>\n",
       "      <td>-/- (Fuel)</td>\n",
       "      <td>0.0</td>\n",
       "      <td>Used</td>\n",
       "      <td>5990</td>\n",
       "      <td>82.0</td>\n",
       "      <td>2012</td>\n",
       "    </tr>\n",
       "    <tr>\n",
       "      <th>28409</th>\n",
       "      <td>40170</td>\n",
       "      <td>Renault</td>\n",
       "      <td>ZOE</td>\n",
       "      <td>-/- (Fuel)</td>\n",
       "      <td>1.0</td>\n",
       "      <td>Used</td>\n",
       "      <td>7575</td>\n",
       "      <td>92.0</td>\n",
       "      <td>2015</td>\n",
       "    </tr>\n",
       "    <tr>\n",
       "      <th>29397</th>\n",
       "      <td>207000</td>\n",
       "      <td>Fiat</td>\n",
       "      <td>Scudo</td>\n",
       "      <td>-/- (Fuel)</td>\n",
       "      <td>0.0</td>\n",
       "      <td>Used</td>\n",
       "      <td>3700</td>\n",
       "      <td>90.0</td>\n",
       "      <td>2012</td>\n",
       "    </tr>\n",
       "    <tr>\n",
       "      <th>32479</th>\n",
       "      <td>57848</td>\n",
       "      <td>Opel</td>\n",
       "      <td>Meriva</td>\n",
       "      <td>-/- (Fuel)</td>\n",
       "      <td>0.0</td>\n",
       "      <td>Used</td>\n",
       "      <td>8880</td>\n",
       "      <td>120.0</td>\n",
       "      <td>2015</td>\n",
       "    </tr>\n",
       "    <tr>\n",
       "      <th>33142</th>\n",
       "      <td>44700</td>\n",
       "      <td>Volkswagen</td>\n",
       "      <td>Polo</td>\n",
       "      <td>-/- (Fuel)</td>\n",
       "      <td>0.0</td>\n",
       "      <td>Used</td>\n",
       "      <td>8490</td>\n",
       "      <td>60.0</td>\n",
       "      <td>2016</td>\n",
       "    </tr>\n",
       "    <tr>\n",
       "      <th>33891</th>\n",
       "      <td>99300</td>\n",
       "      <td>Abarth</td>\n",
       "      <td>Grande Punto</td>\n",
       "      <td>-/- (Fuel)</td>\n",
       "      <td>0.0</td>\n",
       "      <td>Used</td>\n",
       "      <td>5990</td>\n",
       "      <td>155.0</td>\n",
       "      <td>2011</td>\n",
       "    </tr>\n",
       "    <tr>\n",
       "      <th>36918</th>\n",
       "      <td>138562</td>\n",
       "      <td>Renault</td>\n",
       "      <td>Trafic</td>\n",
       "      <td>-/- (Fuel)</td>\n",
       "      <td>0.0</td>\n",
       "      <td>Used</td>\n",
       "      <td>3333</td>\n",
       "      <td>90.0</td>\n",
       "      <td>2013</td>\n",
       "    </tr>\n",
       "    <tr>\n",
       "      <th>38049</th>\n",
       "      <td>999999</td>\n",
       "      <td>BMW</td>\n",
       "      <td>320</td>\n",
       "      <td>-/- (Fuel)</td>\n",
       "      <td>1.0</td>\n",
       "      <td>Used</td>\n",
       "      <td>1999</td>\n",
       "      <td>NaN</td>\n",
       "      <td>2014</td>\n",
       "    </tr>\n",
       "  </tbody>\n",
       "</table>\n",
       "</div>"
      ],
      "text/plain": [
       "       mileage        make         model        fuel  gear offerType  price  \\\n",
       "286     120500       Honda         Civic  -/- (Fuel)   0.0      Used   8990   \n",
       "303      53000       Skoda         Fabia  -/- (Fuel)   0.0      Used   8990   \n",
       "776       3500  Volkswagen        Passat  -/- (Fuel)   1.0      Used  34900   \n",
       "2986    110000        Ford        Fiesta  -/- (Fuel)   1.0      Used   8900   \n",
       "3661     49200     Hyundai           i30  -/- (Fuel)   0.0      Used   9990   \n",
       "3907     86000       Tesla       Model X  -/- (Fuel)   1.0      Used  69700   \n",
       "3908     86000       Tesla       Model X  -/- (Fuel)   1.0      Used  69700   \n",
       "4869      1500        Ford        Fiesta  -/- (Fuel)   0.0      Used  14990   \n",
       "7091     18521     Renault           ZOE  -/- (Fuel)   1.0      Used   8995   \n",
       "12131    83000       Skoda       Octavia  -/- (Fuel)   0.0      Used  10900   \n",
       "12549    46587        Opel         Corsa  -/- (Fuel)   0.0      Used   7555   \n",
       "14010    46587        Opel         Corsa  -/- (Fuel)   0.0      Used   7555   \n",
       "17712    91229  Volkswagen           up!  -/- (Fuel)   0.0      Used   6950   \n",
       "19983    43126        Ford        Fiesta  -/- (Fuel)   0.0      Used  10990   \n",
       "21476    52779     Hyundai        Tucson  -/- (Fuel)   0.0      Used  17490   \n",
       "23938   120000      Nissan         Micra  -/- (Fuel)   0.0      Used   5555   \n",
       "25814   207000        Fiat         Scudo  -/- (Fuel)   0.0      Used   3700   \n",
       "27314    78150        Ford        Fiesta  -/- (Fuel)   0.0      Used   5990   \n",
       "28409    40170     Renault           ZOE  -/- (Fuel)   1.0      Used   7575   \n",
       "29397   207000        Fiat         Scudo  -/- (Fuel)   0.0      Used   3700   \n",
       "32479    57848        Opel        Meriva  -/- (Fuel)   0.0      Used   8880   \n",
       "33142    44700  Volkswagen          Polo  -/- (Fuel)   0.0      Used   8490   \n",
       "33891    99300      Abarth  Grande Punto  -/- (Fuel)   0.0      Used   5990   \n",
       "36918   138562     Renault        Trafic  -/- (Fuel)   0.0      Used   3333   \n",
       "38049   999999         BMW           320  -/- (Fuel)   1.0      Used   1999   \n",
       "\n",
       "          hp  year  \n",
       "286    141.0  2014  \n",
       "303    110.0  2015  \n",
       "776    156.0  2020  \n",
       "2986   101.0  2014  \n",
       "3661   135.0  2015  \n",
       "3907   562.0  2017  \n",
       "3908   562.0  2017  \n",
       "4869    75.0  2021  \n",
       "7091    92.0  2017  \n",
       "12131  110.0  2016  \n",
       "12549    NaN  2015  \n",
       "14010    NaN  2015  \n",
       "17712   68.0  2018  \n",
       "19983  101.0  2017  \n",
       "21476  177.0  2017  \n",
       "23938   80.0  2013  \n",
       "25814   90.0  2012  \n",
       "27314   82.0  2012  \n",
       "28409   92.0  2015  \n",
       "29397   90.0  2012  \n",
       "32479  120.0  2015  \n",
       "33142   60.0  2016  \n",
       "33891  155.0  2011  \n",
       "36918   90.0  2013  \n",
       "38049    NaN  2014  "
      ]
     },
     "execution_count": 21,
     "metadata": {},
     "output_type": "execute_result"
    }
   ],
   "source": [
    "df[df['fuel'] == '-/- (Fuel)']\n"
   ]
  },
  {
   "cell_type": "markdown",
   "id": "65dd1aee-ced3-43ac-80b6-3056a098b6b0",
   "metadata": {},
   "source": [
    "Видим, что таких значений немного, можно заодно их тоже заполнить.\n",
    "\n",
    "Понятно что тесла это жлектричка, европейские производители скорее всего дизель, другие бензин."
   ]
  },
  {
   "cell_type": "code",
   "execution_count": 22,
   "id": "009acafb-0b87-466f-bc41-26f3f31c8c7d",
   "metadata": {},
   "outputs": [],
   "source": [
    "df.loc[df['make'] == 'Tesla', 'fuel'] = 'Electric'  \n",
    "df.loc[(df['make'] == 'Opel') & (df['fuel'] == '-/- (Fuel)'), 'fuel'] = 'Diesel'\n",
    "df.loc[(df['make'] == 'Honda') & (df['fuel'] == '-/- (Fuel)'), 'fuel'] = 'Gasoline'\n",
    "df.loc[(df['make'] == 'Volkswagen') & (df['fuel'] == '-/- (Fuel)') & (df['model'] == 'up!'), 'fuel'] = 'LPG'\n",
    "df.loc[(df['make'] == 'Ford') & (df['fuel'] == '-/- (Fuel)'), 'fuel'] = 'Gasoline'\n",
    "df.loc[(df['make'] == 'Hyundai') & (df['fuel'] == '-/- (Fuel)'), 'fuel'] = 'Gasoline'\n",
    "df.loc[(df['make'] == 'Nissan') & (df['fuel'] == '-/- (Fuel)'), 'fuel'] = 'Gasoline'\n",
    "df.loc[(df['make'] == 'Fiat') & (df['fuel'] == '-/- (Fuel)'), 'fuel'] = 'Diesel'\n",
    "df.loc[(df['make'] == 'Renault') & (df['fuel'] == '-/- (Fuel)'), 'fuel'] = 'Diesel'\n",
    "df.loc[(df['make'] == 'Volkswagen') & (df['fuel'] == '-/- (Fuel)'), 'fuel'] = 'Diesel'\n",
    "df.loc[(df['make'] == 'Abarth') & (df['fuel'] == '-/- (Fuel)'), 'fuel'] = 'Gasoline'\n",
    "df.loc[(df['make'] == 'BMW') & (df['fuel'] == '-/- (Fuel)'), 'fuel'] = 'Diesel'\n",
    "df.loc[(df['make'] == 'Skoda') & (df['fuel'] == '-/- (Fuel)'), 'fuel'] = 'Gasoline'"
   ]
  },
  {
   "cell_type": "markdown",
   "id": "14c9ab8b-7a13-4e94-9972-f672bee85486",
   "metadata": {},
   "source": [
    "Пропуски заполнены, теперь надо восстановить данные по мощности."
   ]
  },
  {
   "cell_type": "code",
   "execution_count": 23,
   "id": "89b16e0a-34ee-42c6-aefc-21c8904cc19c",
   "metadata": {},
   "outputs": [],
   "source": [
    "hp_mean_by_model_fuel = df.groupby(['model', 'fuel'])['hp'].transform('mean')\n",
    "df['hp'] = df['hp'].fillna(hp_mean_by_model_fuel)"
   ]
  },
  {
   "cell_type": "code",
   "execution_count": 24,
   "id": "e8a3e7d2-4509-400b-93e0-476816baa455",
   "metadata": {},
   "outputs": [
    {
     "data": {
      "text/html": [
       "<div>\n",
       "<style scoped>\n",
       "    .dataframe tbody tr th:only-of-type {\n",
       "        vertical-align: middle;\n",
       "    }\n",
       "\n",
       "    .dataframe tbody tr th {\n",
       "        vertical-align: top;\n",
       "    }\n",
       "\n",
       "    .dataframe thead th {\n",
       "        text-align: right;\n",
       "    }\n",
       "</style>\n",
       "<table border=\"1\" class=\"dataframe\">\n",
       "  <thead>\n",
       "    <tr style=\"text-align: right;\">\n",
       "      <th></th>\n",
       "      <th>mileage</th>\n",
       "      <th>make</th>\n",
       "      <th>model</th>\n",
       "      <th>fuel</th>\n",
       "      <th>gear</th>\n",
       "      <th>offerType</th>\n",
       "      <th>price</th>\n",
       "      <th>hp</th>\n",
       "      <th>year</th>\n",
       "    </tr>\n",
       "  </thead>\n",
       "  <tbody>\n",
       "    <tr>\n",
       "      <th>45923</th>\n",
       "      <td>10</td>\n",
       "      <td>Fiat</td>\n",
       "      <td>500C</td>\n",
       "      <td>Electric</td>\n",
       "      <td>1.0</td>\n",
       "      <td>Demonstration</td>\n",
       "      <td>36890</td>\n",
       "      <td>NaN</td>\n",
       "      <td>2021</td>\n",
       "    </tr>\n",
       "    <tr>\n",
       "      <th>45924</th>\n",
       "      <td>363</td>\n",
       "      <td>Fiat</td>\n",
       "      <td>500C</td>\n",
       "      <td>Electric</td>\n",
       "      <td>1.0</td>\n",
       "      <td>Demonstration</td>\n",
       "      <td>36890</td>\n",
       "      <td>NaN</td>\n",
       "      <td>2021</td>\n",
       "    </tr>\n",
       "  </tbody>\n",
       "</table>\n",
       "</div>"
      ],
      "text/plain": [
       "       mileage  make model      fuel  gear      offerType  price  hp  year\n",
       "45923       10  Fiat  500C  Electric   1.0  Demonstration  36890 NaN  2021\n",
       "45924      363  Fiat  500C  Electric   1.0  Demonstration  36890 NaN  2021"
      ]
     },
     "execution_count": 24,
     "metadata": {},
     "output_type": "execute_result"
    }
   ],
   "source": [
    "df[df['hp'].isna()]"
   ]
  },
  {
   "cell_type": "markdown",
   "id": "df157004-b223-4f36-80a4-67f111ee0e64",
   "metadata": {},
   "source": [
    "Нету данных только по фиату, их можно посмотреть в интернете."
   ]
  },
  {
   "cell_type": "code",
   "execution_count": 25,
   "id": "b93df804-3161-44e3-bfcb-d52d9057197a",
   "metadata": {},
   "outputs": [],
   "source": [
    "df.loc[(df['make'] == 'Fiat') & (df['hp'].isna()), 'hp'] = 70"
   ]
  },
  {
   "cell_type": "code",
   "execution_count": 26,
   "id": "b08003b8-6970-45d0-88c1-9ed1fb08a4c1",
   "metadata": {},
   "outputs": [
    {
     "data": {
      "text/plain": [
       "mileage      0\n",
       "make         0\n",
       "model        0\n",
       "fuel         0\n",
       "gear         0\n",
       "offerType    0\n",
       "price        0\n",
       "hp           0\n",
       "year         0\n",
       "dtype: int64"
      ]
     },
     "execution_count": 26,
     "metadata": {},
     "output_type": "execute_result"
    }
   ],
   "source": [
    "df.isnull().sum()"
   ]
  },
  {
   "cell_type": "markdown",
   "id": "af54f963-caff-44a3-b79c-43f7a6dc6d17",
   "metadata": {},
   "source": [
    "Все пропуски заполненны."
   ]
  },
  {
   "cell_type": "code",
   "execution_count": 27,
   "id": "f77a0182-2134-475e-b645-2689bf64c7e0",
   "metadata": {},
   "outputs": [
    {
     "data": {
      "text/plain": [
       "<Axes: xlabel='hp', ylabel='price'>"
      ]
     },
     "execution_count": 27,
     "metadata": {},
     "output_type": "execute_result"
    },
    {
     "data": {
      "image/png": "[encoded data removed]",
      "text/plain": [
       "<Figure size 640x480 with 1 Axes>"
      ]
     },
     "metadata": {},
     "output_type": "display_data"
    }
   ],
   "source": [
    "tmp = df[(df['price'] < df['price'].quantile(0.99))]\n",
    "sns.lineplot(x = 'hp', y = 'price', data=tmp)"
   ]
  },
  {
   "cell_type": "markdown",
   "id": "78711650-15df-4acd-8d28-cdd4348759f5",
   "metadata": {},
   "source": [
    "Чем больше мощность, тем выше цена"
   ]
  },
  {
   "cell_type": "code",
   "execution_count": 28,
   "id": "341c67b4-50fa-4d2d-8232-3e35b54c6dd7",
   "metadata": {},
   "outputs": [
    {
     "data": {
      "image/png": "[encoded data removed]",
      "text/plain": [
       "<Figure size 1200x600 with 1 Axes>"
      ]
     },
     "metadata": {},
     "output_type": "display_data"
    }
   ],
   "source": [
    "plt.figure(figsize=(12, 6))\n",
    "sns.barplot(x = \"fuel\", y = \"price\", data = df);"
   ]
  },
  {
   "cell_type": "markdown",
   "id": "f46b7af2-2b6f-4d00-8ca4-95d42aaf007a",
   "metadata": {},
   "source": [
    "Так же тип топлива влияет на цену"
   ]
  },
  {
   "cell_type": "markdown",
   "id": "9bf21736-3a01-4729-b145-8fb5d6ec66a1",
   "metadata": {},
   "source": [
    "## Корреляция признаков"
   ]
  },
  {
   "cell_type": "markdown",
   "id": "d63f318c-0dd0-49e9-aca1-dc0c849b93e1",
   "metadata": {},
   "source": [
    "Так как есть признаки со строками, придется закодировать эти признаки"
   ]
  },
  {
   "cell_type": "code",
   "execution_count": 29,
   "id": "7e206501-0b70-4564-a36d-765223449847",
   "metadata": {},
   "outputs": [
    {
     "data": {
      "image/png": "[encoded data removed]",
      "text/plain": [
       "<Figure size 1200x800 with 2 Axes>"
      ]
     },
     "metadata": {},
     "output_type": "display_data"
    }
   ],
   "source": [
    "from sklearn.preprocessing import LabelEncoder\n",
    "df_copy = df.copy()\n",
    "\n",
    "for col in ['make', 'model', 'fuel', 'offerType']:\n",
    "    le = LabelEncoder()\n",
    "    df_copy[col] = le.fit_transform(df_copy[col])\n",
    "    \n",
    "num_cols = df_copy.select_dtypes(include='number').columns\n",
    "\n",
    "plt.figure(figsize=(12, 8))\n",
    "sns.heatmap(df_copy[num_cols].corr(), annot=True, cmap='RdYlGn')\n",
    "plt.show()"
   ]
  },
  {
   "cell_type": "markdown",
   "id": "2d70c108-6f9c-401c-8fa4-dcd2bb13bac4",
   "metadata": {},
   "source": [
    "Видим большую корреляцию на признаке hp(0.75). Можно убрать этот признак."
   ]
  },
  {
   "cell_type": "code",
   "execution_count": 30,
   "id": "abea06a0-4523-4333-b452-82f3d74cf527",
   "metadata": {},
   "outputs": [],
   "source": [
    "df = df[df.columns.drop('hp')]"
   ]
  },
  {
   "cell_type": "markdown",
   "id": "dd5194e4-0e87-41d7-b5a7-7873375a95f3",
   "metadata": {},
   "source": [
    "Нам хотелось бы изменить признак offerType, там слишком много лишнего, можно сузить все до новое и б/у.\n",
    "\n",
    "Так же можно подкорректировать признак fuel."
   ]
  },
  {
   "cell_type": "markdown",
   "id": "bcc004e2-f7dd-4fb3-bce0-3ba4cded53a1",
   "metadata": {},
   "source": [
    "# Корректировка offerType"
   ]
  },
  {
   "cell_type": "markdown",
   "id": "6735059b-2fea-4ca9-8d8b-87f0a042025e",
   "metadata": {},
   "source": [
    "New, Pre-registered, Demonstration мы будем считать новыми, остальные будут б/у.\n",
    "\n",
    "Эти значения мы представим как 0 - новые, 1 - б/у."
   ]
  },
  {
   "cell_type": "code",
   "execution_count": 31,
   "id": "b142ca40-ed00-421b-ae94-18826b5fedb3",
   "metadata": {},
   "outputs": [],
   "source": [
    "df.loc[df['offerType'] == 'New', 'offerType'] = 0 \n",
    "df.loc[df['offerType'] == 'Demonstration', 'offerType'] = 0\n",
    "df.loc[df['offerType'] == 'Pre-registered', 'offerType'] = 0\n",
    "df.loc[df['offerType'] == 'Used', 'offerType'] = 1 \n",
    "df.loc[df['offerType'] == \"Employee's car\", 'offerType'] = 1 "
   ]
  },
  {
   "cell_type": "code",
   "execution_count": 32,
   "id": "841250e5-fc2d-4902-a3c0-95230d94adb9",
   "metadata": {},
   "outputs": [
    {
     "data": {
      "text/plain": [
       "offerType\n",
       "1    41115\n",
       "0     5146\n",
       "Name: count, dtype: int64"
      ]
     },
     "execution_count": 32,
     "metadata": {},
     "output_type": "execute_result"
    }
   ],
   "source": [
    "df['offerType'].value_counts()"
   ]
  },
  {
   "cell_type": "code",
   "execution_count": 33,
   "id": "cc16f1e9-8d6b-4551-8852-73eba5672cda",
   "metadata": {},
   "outputs": [
    {
     "data": {
      "image/png": "[encoded data removed]",
      "text/plain": [
       "<Figure size 640x480 with 1 Axes>"
      ]
     },
     "metadata": {},
     "output_type": "display_data"
    }
   ],
   "source": [
    "sns.barplot(x = \"offerType\", y = \"price\", data = df);"
   ]
  },
  {
   "cell_type": "markdown",
   "id": "d7fe3e8b-b5f8-448d-b8a9-608d20fd1669",
   "metadata": {},
   "source": [
    "Видим, что естественно новые авто дороже."
   ]
  },
  {
   "cell_type": "markdown",
   "id": "613b718e-f59b-491b-88ec-a10823a1323b",
   "metadata": {},
   "source": [
    "# Корректировка fuel"
   ]
  },
  {
   "cell_type": "code",
   "execution_count": 34,
   "id": "42db3974-c7dd-4964-b5ff-7bd9ad4b3ddc",
   "metadata": {},
   "outputs": [
    {
     "data": {
      "text/plain": [
       "array(['Diesel', 'Gasoline', 'Electric/Gasoline', 'Electric',\n",
       "       'Electric/Diesel', 'CNG', 'LPG', 'Others', 'Hydrogen', 'Ethanol'],\n",
       "      dtype=object)"
      ]
     },
     "execution_count": 34,
     "metadata": {},
     "output_type": "execute_result"
    }
   ],
   "source": [
    "df['fuel'].unique()"
   ]
  },
  {
   "cell_type": "markdown",
   "id": "4ccbb89a-fda6-4e9a-ac2b-c7f2462f3602",
   "metadata": {},
   "source": [
    "Много типов топлива, можно сократить до безина, дизеля, гибрид, элекричество, и другое."
   ]
  },
  {
   "cell_type": "code",
   "execution_count": 35,
   "id": "068d5683-1db7-48b8-b81f-f6c80ab0cfbb",
   "metadata": {},
   "outputs": [],
   "source": [
    "df.loc[df['fuel'] == 'Electric/Gasoline', 'fuel'] = 'Hybrid'\n",
    "df.loc[df['fuel'] == 'Electric/Diesel', 'fuel'] = 'Hybrid'\n",
    "df.loc[df['fuel'] == 'CNG', 'fuel'] = 'Others'\n",
    "df.loc[df['fuel'] == 'LPG', 'fuel'] = 'Others'\n",
    "df.loc[df['fuel'] == 'Hydrogen', 'fuel'] = 'Others'\n",
    "df.loc[df['fuel'] == 'Ethanol', 'fuel'] = 'Others'"
   ]
  },
  {
   "cell_type": "code",
   "execution_count": 36,
   "id": "a89d9bff-7391-47e0-9d19-e790d0913e78",
   "metadata": {},
   "outputs": [
    {
     "data": {
      "text/plain": [
       "array(['Diesel', 'Gasoline', 'Hybrid', 'Electric', 'Others'], dtype=object)"
      ]
     },
     "execution_count": 36,
     "metadata": {},
     "output_type": "execute_result"
    }
   ],
   "source": [
    "df['fuel'].unique()"
   ]
  },
  {
   "cell_type": "markdown",
   "id": "f77df748-db7f-437a-92d5-19b8643ed849",
   "metadata": {},
   "source": [
    "Посмотрим зависимость цены от вида топлива."
   ]
  },
  {
   "cell_type": "code",
   "execution_count": 37,
   "id": "faf0f02e-d6e4-403a-9109-140750dc3e61",
   "metadata": {},
   "outputs": [
    {
     "data": {
      "image/png": "[encoded data removed]",
      "text/plain": [
       "<Figure size 1200x600 with 1 Axes>"
      ]
     },
     "metadata": {},
     "output_type": "display_data"
    }
   ],
   "source": [
    "plt.figure(figsize=(12, 6))\n",
    "sns.barplot(x = \"fuel\", y = \"price\", data = df);"
   ]
  },
  {
   "cell_type": "markdown",
   "id": "3f4e56e0-a7c2-4da4-a822-65a1e231ac91",
   "metadata": {},
   "source": [
    "## Еще раз посмотрим корреляцию"
   ]
  },
  {
   "cell_type": "code",
   "execution_count": 38,
   "id": "beeb9ff1-4862-499c-8e1a-7b31f1957a9a",
   "metadata": {},
   "outputs": [
    {
     "data": {
      "image/png": "[encoded data removed]",
      "text/plain": [
       "<Figure size 1200x800 with 2 Axes>"
      ]
     },
     "metadata": {},
     "output_type": "display_data"
    }
   ],
   "source": [
    "df_copy = df.copy()\n",
    "\n",
    "for col in ['make', 'model', 'fuel', 'offerType']:\n",
    "    le = LabelEncoder()\n",
    "    df_copy[col] = le.fit_transform(df_copy[col])\n",
    "    \n",
    "num_cols = df_copy.select_dtypes(include='number').columns\n",
    "\n",
    "plt.figure(figsize=(12, 8))\n",
    "sns.heatmap(df_copy[num_cols].corr(), annot=True, cmap='RdYlGn')\n",
    "plt.show()"
   ]
  },
  {
   "cell_type": "markdown",
   "id": "65dcef76-4833-461c-a26c-0d32451f747b",
   "metadata": {},
   "source": [
    "Теперь высокой корреляции нет."
   ]
  },
  {
   "cell_type": "markdown",
   "id": "045036d4-eb1e-4a49-a39d-b3b20588bc9c",
   "metadata": {},
   "source": [
    "## Избавимся от выбросов"
   ]
  },
  {
   "cell_type": "code",
   "execution_count": 57,
   "id": "50841ec9-2e8c-4e70-b059-b13c44359e48",
   "metadata": {},
   "outputs": [],
   "source": [
    "Q1 = df.quantile(0.25)\n",
    "Q3 = df.quantile(0.75)\n",
    "IQR = Q3 - Q1\n",
    "\n",
    "lower_bound = Q1 - 1.5 * IQR\n",
    "upper_bound = Q3 + 1.5 * IQR\n",
    "\n",
    "df = df[~((df < lower_bound) | (df > upper_bound)).any(axis=1)]"
   ]
  },
  {
   "cell_type": "markdown",
   "id": "010d84b8-50a9-4ea9-8420-ef99e603e8ba",
   "metadata": {},
   "source": [
    "## Разбиваем данные на обучающую и тестовую выборки"
   ]
  },
  {
   "cell_type": "code",
   "execution_count": 58,
   "id": "9f3f46e8-1668-41de-bb0f-d28fc6fc4d1b",
   "metadata": {},
   "outputs": [],
   "source": [
    "from sklearn.model_selection import train_test_split \n",
    "\n",
    "for col in ['make', 'model', 'fuel', 'offerType']:\n",
    "    le = LabelEncoder()\n",
    "    df[col] = le.fit_transform(df[col])\n",
    "\n",
    "\n",
    "X = df.drop(columns=['price','offerType'])  \n",
    "y = df['price']  \n",
    "\n",
    "X_train, X_test, y_train, y_test = train_test_split(X, y, test_size=0.2, random_state=42)"
   ]
  },
  {
   "cell_type": "markdown",
   "id": "96f903a2-0531-46d1-b255-62a730c52d6d",
   "metadata": {},
   "source": [
    "## Подберем наилучшие признаки"
   ]
  },
  {
   "cell_type": "code",
   "execution_count": 102,
   "id": "e7e76076-b833-4500-96ae-c4246d67fd87",
   "metadata": {},
   "outputs": [
    {
     "name": "stdout",
     "output_type": "stream",
     "text": [
      "Количество признаков: 3, Выбранные признаки: ['fuel', 'gear', 'year'], MSE: 16022027.116131023\n",
      "Количество признаков: 4, Выбранные признаки: ['make', 'fuel', 'gear', 'year'], MSE: 15593673.221558552\n",
      "Количество признаков: 5, Выбранные признаки: ['make', 'model', 'fuel', 'gear', 'year'], MSE: 15486150.384528553\n",
      "Количество признаков: 6, Выбранные признаки: ['mileage', 'make', 'model', 'fuel', 'gear', 'year'], MSE: 15054315.244033955\n",
      "Количество признаков: 7, Выбранные признаки: ['mileage', 'make', 'model', 'fuel', 'gear', 'offerType', 'year'], MSE: 15054315.244033953\n"
     ]
    }
   ],
   "source": [
    "from sklearn.feature_selection import RFE\n",
    "\n",
    "model = Ridge()\n",
    "\n",
    "\n",
    "results = {}\n",
    "\n",
    "# Всего признаков 7\n",
    "for n in range(3, 8):\n",
    "    selector = RFE(estimator=model, n_features_to_select=n)\n",
    "    selector.fit(X_train, y_train)\n",
    "\n",
    "    selected_features = X_train.columns[selector.support_]\n",
    "    \n",
    "    X_train_selected = selector.transform(X_train)\n",
    "    X_test_selected = selector.transform(X_test)\n",
    "\n",
    "    model.fit(X_train_selected, y_train)\n",
    "\n",
    "    y_test_pred = model.predict(X_test_selected)\n",
    "\n",
    "    mse_test = mean_squared_error(y_test, y_test_pred)\n",
    "    results[n] = mse_test\n",
    "\n",
    "    print(f'Количество признаков: {n}, Выбранные признаки: {selected_features.tolist()}, MSE: {mse_test}')"
   ]
  },
  {
   "cell_type": "markdown",
   "id": "2bb7ae57-358d-4577-8563-560509545b27",
   "metadata": {},
   "source": [
    "Как мы видим offerType не влияет на MSE, можно остановиться на 6 признаках, удалим offerType"
   ]
  },
  {
   "cell_type": "code",
   "execution_count": 106,
   "id": "adb9e898-d581-457a-ba56-02b12cf92325",
   "metadata": {},
   "outputs": [],
   "source": [
    "X = df.drop(columns=['price','offerType'])  \n",
    "y = df['price']  \n",
    "\n",
    "X_train, X_test, y_train, y_test = train_test_split(X, y, test_size=0.2, random_state=42)"
   ]
  },
  {
   "cell_type": "markdown",
   "id": "f8c33629-e50f-448f-a539-d2ea7bc5c02c",
   "metadata": {},
   "source": [
    "##  Реализация функции gradient_descent(X, y)"
   ]
  },
  {
   "cell_type": "code",
   "execution_count": 107,
   "id": "635dd6b0-7a7f-4268-957e-95908dc17edd",
   "metadata": {},
   "outputs": [],
   "source": [
    "def gradient_descent(X, y, iterations=1000, learning_rate=0.01, lambda_reg=0.1):\n",
    "    n_samples, n_features = X.shape\n",
    "\n",
    "    w = np.zeros(n_features + 1)  \n",
    "\n",
    "    X_b = np.c_[np.ones((n_samples, 1)), X]\n",
    "\n",
    "    for _ in range(iterations):\n",
    "        predictions = X_b.dot(w) \n",
    "        errors = predictions - y \n",
    "\n",
    "        mse = X_b.T.dot(errors)  \n",
    "        l2 = (2 * lambda_reg * w) \n",
    "\n",
    "        # Градиент\n",
    "        gradient = (2 / n_samples) * mse + l2\n",
    "        w -= learning_rate * gradient  \n",
    "\n",
    "    return w"
   ]
  },
  {
   "cell_type": "markdown",
   "id": "94aa2c34-0464-4934-8c41-56d77b57959a",
   "metadata": {},
   "source": [
    "## Масштабирование данных"
   ]
  },
  {
   "cell_type": "code",
   "execution_count": 108,
   "id": "08d61cc4-a81f-4108-9184-b69b5fe42c63",
   "metadata": {},
   "outputs": [],
   "source": [
    "from sklearn.preprocessing import StandardScaler\n",
    "\n",
    "scaler = StandardScaler()\n",
    "X_train_scaled = scaler.fit_transform(X_train)\n",
    "X_test_scaled = scaler.transform(X_test)"
   ]
  },
  {
   "cell_type": "markdown",
   "id": "225844f9-5782-4665-8409-d9ac1aff7edc",
   "metadata": {},
   "source": [
    "## Обучение модели и результаты"
   ]
  },
  {
   "cell_type": "code",
   "execution_count": 109,
   "id": "4aa0bad2-bf7d-4bfe-aa51-fe188473c173",
   "metadata": {},
   "outputs": [
    {
     "name": "stdout",
     "output_type": "stream",
     "text": [
      "Train MSE: 16305039.298982149, Train RMSE: 4037.9498881217123, Train R2: 0.5211507378623939\n",
      "Test MSE: 16269000.334511092, Test RMSE: 4033.4848871058252, Test R2: 0.5250342570538189\n"
     ]
    }
   ],
   "source": [
    "from sklearn.metrics import mean_squared_error, r2_score\n",
    "\n",
    "weights = gradient_descent(X_train_scaled, y_train)\n",
    "\n",
    "y_train_pred = np.c_[np.ones((X_train_scaled.shape[0], 1)), X_train_scaled].dot(weights)\n",
    "\n",
    "y_test_pred = np.c_[np.ones((X_test_scaled.shape[0], 1)), X_test_scaled].dot(weights)\n",
    "\n",
    "mse_train = mean_squared_error(y_train, y_train_pred)\n",
    "rmse_train = np.sqrt(mse_train)\n",
    "r2_train = r2_score(y_train, y_train_pred)\n",
    "\n",
    "mse_test = mean_squared_error(y_test, y_test_pred)\n",
    "rmse_test = np.sqrt(mse_test)\n",
    "r2_test = r2_score(y_test, y_test_pred)\n",
    "\n",
    "\n",
    "print(f\"Train MSE: {mse_train:}, Train RMSE: {rmse_train:}, Train R2: {r2_train:}\")\n",
    "print(f\"Test MSE: {mse_test:}, Test RMSE: {rmse_test:}, Test R2: {r2_test:}\")\n"
   ]
  },
  {
   "cell_type": "markdown",
   "id": "e4a4f861-6080-4ae1-a35c-66e1c9a21dbd",
   "metadata": {},
   "source": [
    "## Обучение на существующей библиотеке"
   ]
  },
  {
   "cell_type": "code",
   "execution_count": 110,
   "id": "13429668-b2f0-4e4c-a9e9-67e75dca85ae",
   "metadata": {},
   "outputs": [
    {
     "name": "stdout",
     "output_type": "stream",
     "text": [
      "Train MSE: 15176027.303827312, Train RMSE: 3895.642091340953, Train R2: 0.554307760725758\n",
      "Test MSE: 15054260.21848006, Test RMSE: 3879.98198687572, Test R2: 0.560498018184447\n"
     ]
    }
   ],
   "source": [
    "from sklearn.linear_model import Ridge\n",
    "\n",
    "model_ridge = Ridge()  # выбранная модель\n",
    "\n",
    "model_ridge.fit(X_train_scaled, y_train)  # обучение модели на обучающей выборке\n",
    "\n",
    "y_train_pred = model_ridge.predict(X_train_scaled)  # использование модели для предсказания на обучающей\n",
    "y_test_pred = model_ridge.predict(X_test_scaled)  # или на тестовой выборке\n",
    "\n",
    "mse_train = mean_squared_error(y_train, y_train_pred)\n",
    "rmse_train = np.sqrt(mse_train)\n",
    "r2_train = r2_score(y_train, y_train_pred)\n",
    "\n",
    "mse_test = mean_squared_error(y_test, y_test_pred)\n",
    "rmse_test = np.sqrt(mse_test)\n",
    "r2_test = r2_score(y_test, y_test_pred)\n",
    "\n",
    "\n",
    "print(f\"Train MSE: {mse_train:}, Train RMSE: {rmse_train:}, Train R2: {r2_train:}\")\n",
    "print(f\"Test MSE: {mse_test:}, Test RMSE: {rmse_test:}, Test R2: {r2_test:}\")"
   ]
  },
  {
   "cell_type": "markdown",
   "id": "98a5a79b-d7a8-499a-b69d-1783267cdfec",
   "metadata": {},
   "source": [
    "Видим что наша реализация неплоха и значения не сильно отличаются от готовой"
   ]
  },
  {
   "cell_type": "markdown",
   "id": "1fce6991-0643-49c1-9802-c0ed645df4a4",
   "metadata": {},
   "source": [
    "## Кросс-валидация для gradient_descent(X, y)"
   ]
  },
  {
   "cell_type": "code",
   "execution_count": 111,
   "id": "3607ee67-b17c-41f3-8e11-658d5921ba72",
   "metadata": {},
   "outputs": [
    {
     "name": "stdout",
     "output_type": "stream",
     "text": [
      "        mse_train       mse_tes   rmse_train    rmse_test  r2_train   r2_test\n",
      "0    1.641432e+07  1.590226e+07  4051.459266  3987.763306  0.517184  0.535814\n",
      "1    1.613266e+07  1.712846e+07  4016.548591  4138.653966  0.522244  0.513048\n",
      "2    1.629926e+07  1.626257e+07  4037.233644  4032.688083  0.524610  0.508716\n",
      "3    1.643748e+07  1.585454e+07  4054.316826  3981.776485  0.515845  0.539751\n",
      "4    1.623549e+07  1.643191e+07  4029.328665  4053.628796  0.525966  0.505827\n",
      "E    1.630384e+07  1.631595e+07  4037.777398  4038.902127  0.521170  0.520631\n",
      "STD  1.131917e+05  4.605432e+05    14.022020    56.717610  0.004006  0.014246\n"
     ]
    }
   ],
   "source": [
    "def cross_val_metrics(X, y, model, k=5):\n",
    "    kf = KFold(n_splits=k, shuffle=True, random_state=42)\n",
    "    \n",
    "    metrics = {\n",
    "        'mse_train': [],\n",
    "        'mse_test': [],\n",
    "        'rmse_train': [],\n",
    "        'rmse_test': [],\n",
    "        'r2_train': [],\n",
    "        'r2_test': []\n",
    "    }\n",
    "    \n",
    "    for train_index, test_index in kf.split(X):\n",
    "        X_train_fold, X_test_fold = X[train_index], X[test_index]\n",
    "        y_train_fold, y_test_fold = y.iloc[train_index].to_numpy(), y.iloc[test_index].to_numpy()\n",
    "\n",
    "        weights = gradient_descent(X_train_fold, y_train_fold)\n",
    "\n",
    "        y_train_pred = np.c_[np.ones((X_train_fold.shape[0], 1)), X_train_fold].dot(weights)\n",
    "        y_test_pred = np.c_[np.ones((X_test_fold.shape[0], 1)), X_test_fold].dot(weights)\n",
    "\n",
    "        metrics['mse_train'].append(mean_squared_error(y_train_fold, y_train_pred))\n",
    "        metrics['mse_test'].append(mean_squared_error(y_test_fold, y_test_pred))\n",
    "        metrics['rmse_train'].append(np.sqrt(metrics['mse_train'][-1]))\n",
    "        metrics['rmse_test'].append(np.sqrt(metrics['mse_test'][-1]))\n",
    "        metrics['r2_train'].append(r2_score(y_train_fold, y_train_pred))\n",
    "        metrics['r2_test'].append(r2_score(y_test_fold, y_test_pred))\n",
    "    \n",
    "    return metrics\n",
    "\n",
    "k = 5  \n",
    "metrics = cross_val_metrics(X_train_scaled, y_train, gradient_descent, k)\n",
    "\n",
    "results = pd.DataFrame({\n",
    "    'mse_train': metrics['mse_train'],\n",
    "    'mse_tes': metrics['mse_test'],\n",
    "    'rmse_train': metrics['rmse_train'],\n",
    "    'rmse_test': metrics['rmse_test'],\n",
    "    'r2_train': metrics['r2_train'],\n",
    "    'r2_test': metrics['r2_test'],\n",
    "})\n",
    "\n",
    "results.loc['E'] = results.mean()\n",
    "results.loc['STD'] = results.std()\n",
    "\n",
    "print(results)\n"
   ]
  },
  {
   "cell_type": "markdown",
   "id": "644b526c-001f-4cc9-b282-a74b1cb14dba",
   "metadata": {},
   "source": [
    "## Кросс валидация для Ridge"
   ]
  },
  {
   "cell_type": "code",
   "execution_count": 112,
   "id": "b84254fe-234e-4c50-a3d0-86844c842e57",
   "metadata": {},
   "outputs": [
    {
     "name": "stdout",
     "output_type": "stream",
     "text": [
      "        mse_train      mse_test   rmse_train    rmse_test  r2_train   r2_test\n",
      "0    1.528213e+07  1.475611e+07  3909.236603  3841.368485  0.550486  0.569270\n",
      "1    1.500381e+07  1.587131e+07  3873.474638  3983.881497  0.555674  0.548788\n",
      "2    1.517248e+07  1.519714e+07  3895.186257  3898.350316  0.557474  0.540902\n",
      "3    1.531151e+07  1.464041e+07  3912.991844  3826.278325  0.549010  0.574997\n",
      "4    1.510390e+07  1.547192e+07  3886.374217  3933.435927  0.559005  0.534698\n",
      "E    1.517476e+07  1.518738e+07  3895.452712  3896.662910  0.554330  0.553731\n",
      "STD  1.135595e+05  4.547511e+05    14.581787    58.264307  0.003915  0.015780\n"
     ]
    }
   ],
   "source": [
    "model_ridge = Ridge()\n",
    "\n",
    "k = 5  \n",
    "kf = KFold(n_splits=k, shuffle=True, random_state=42)\n",
    "\n",
    "mse_train, mse_test = [], []\n",
    "rmse_train, rmse_test = [], []\n",
    "r2_train, r2_test = [], []\n",
    "\n",
    "for train_index, val_index in kf.split(X_train_scaled):\n",
    " \n",
    "    X_train_fold, X_val_fold = X_train_scaled[train_index], X_train_scaled[val_index]\n",
    "    y_train_fold, y_val_fold = y_train.iloc[train_index], y_train.iloc[val_index]\n",
    "\n",
    "    model_ridge.fit(X_train_fold, y_train_fold)\n",
    "    \n",
    "    y_train_pred = model_ridge.predict(X_train_fold)\n",
    "    y_val_pred = model_ridge.predict(X_val_fold)\n",
    "    \n",
    "    mse_train.append(mean_squared_error(y_train_fold, y_train_pred))\n",
    "    mse_test.append(mean_squared_error(y_val_fold, y_val_pred))\n",
    "    rmse_train.append(np.sqrt(mse_train[-1]))\n",
    "    rmse_test.append(np.sqrt(mse_test[-1]))\n",
    "    r2_train.append(r2_score(y_train_fold, y_train_pred))\n",
    "    r2_test.append(r2_score(y_val_fold, y_val_pred))\n",
    "\n",
    "results = pd.DataFrame({\n",
    "    'mse_train': mse_train,\n",
    "    'mse_test': mse_test,\n",
    "    'rmse_train': rmse_train,\n",
    "    'rmse_test': rmse_test,\n",
    "    'r2_train': r2_train,\n",
    "    'r2_test': r2_test,\n",
    "}, index=[f'{i}' for i in range(k)])\n",
    "\n",
    "results.loc['E'] = results.mean()\n",
    "results.loc['STD'] = results.std()\n",
    "\n",
    "print(results)"
   ]
  },
  {
   "cell_type": "markdown",
   "id": "b44fff26-102b-4ae8-99e6-b43a93d6cc04",
   "metadata": {},
   "source": [
    "## Выводы"
   ]
  },
  {
   "cell_type": "markdown",
   "id": "aa83a8f6-f1f3-477e-95b5-c3bf1efa3f9b",
   "metadata": {},
   "source": [
    "В целом разница между нашей функцией и готовой по значениям ошибки не такая большая, кросс-валидация помогает снизить ошибку. Однако в контексте задачи по предсказанию цен на автомобили ошибка составляет около 4000 евро, что, с учетом средней цены в 16,000 евро, равно примерно 25%. Из этого можно сделать вывод, что работа с данными была проведена не до конца. Возможно, стоит рассмотреть удаление дополнительных признаков с высокой корреляцией или вовсе не надо было удалять признак hp, так как с увеличинем количества признаков уменьшалось MSE, что видно в начале, а может нужно было расмотреть добавление новых признаков."
   ]
  }
 ],
 "metadata": {
  "kernelspec": {
   "display_name": "Python 3 (ipykernel)",
   "language": "python",
   "name": "python3"
  },
  "language_info": {
   "codemirror_mode": {
    "name": "ipython",
    "version": 3
   },
   "file_extension": ".py",
   "mimetype": "text/x-python",
   "name": "python",
   "nbconvert_exporter": "python",
   "pygments_lexer": "ipython3",
   "version": "3.12.6"
  }
 },
 "nbformat": 4,
 "nbformat_minor": 5
}
